{
  "nbformat": 4,
  "nbformat_minor": 0,
  "metadata": {
    "colab": {
      "provenance": []
    },
    "kernelspec": {
      "name": "python3",
      "display_name": "Python 3"
    },
    "language_info": {
      "name": "python"
    }
  },
  "cells": [
    {
      "cell_type": "code",
      "source": [
        "import torch\n",
        "import torch.nn as nn\n",
        "import torch.optim as optim\n",
        "\n",
        "#simple neural network with one linear layer\n",
        "class SimpleNet(nn.Module):\n",
        "    def __init__(self):\n",
        "        super(SimpleNet, self).__init__()\n",
        "        self.linear = nn.Linear(1, 1)  #single input, single output\n",
        "\n",
        "    def forward(self, x):\n",
        "        return self.linear(x)\n",
        "\n",
        "#obj of neural network\n",
        "net = SimpleNet()\n",
        "\n",
        "#loss function and optimizer\n",
        "criterion = nn.MSELoss()  #Mean Squared Error Loss\n",
        "optimizer = optim.SGD(net.parameters(), lr=0.01)  #stochastic gradient descent\n",
        "\n",
        "#input tensor and target tensor\n",
        "inputs = torch.tensor([[1.0], [2.0], [3.0]], requires_grad=True)\n",
        "targets = torch.tensor([[2.0], [4.0], [6.0]])\n",
        "\n",
        "#forward pass: compute predicted outputs by passing inputs to the model\n",
        "outputs = net(inputs)\n",
        "\n",
        "#compute and print loss\n",
        "loss = criterion(outputs, targets)\n",
        "print(f'Loss: {loss.item()}')\n",
        "\n",
        "#zero the gradients\n",
        "optimizer.zero_grad()\n",
        "\n",
        "#backward pass: compute gradient of the loss with respect to model parameters\n",
        "loss.backward()\n",
        "\n",
        "#update model parameters\n",
        "optimizer.step()\n",
        "\n",
        "#print updated parameters\n",
        "print(\"\\nGradients:\")\n",
        "for name, param in net.named_parameters():\n",
        "    print(f'{name}.grad: {param.grad}')\n",
        "\n",
        "#update model parameters\n",
        "optimizer.step()\n",
        "\n",
        "#print updated parameters\n",
        "print(\"\\nParameters after update:\")\n",
        "for name, param in net.named_parameters():\n",
        "    print(f'{name}: {param.data}')\n"
      ],
      "metadata": {
        "colab": {
          "base_uri": "https://localhost:8080/"
        },
        "id": "1REoi2PgdADf",
        "outputId": "de9b2488-6505-402a-ab5c-9a5fe03418e4"
      },
      "execution_count": 10,
      "outputs": [
        {
          "output_type": "stream",
          "name": "stdout",
          "text": [
            "Loss: 7.956203937530518\n",
            "\n",
            "Gradients:\n",
            "linear.weight.grad: tensor([[-12.1296]])\n",
            "linear.bias.grad: tensor([-4.9922])\n",
            "\n",
            "Parameters after update:\n",
            "linear.weight: tensor([[0.6337]])\n",
            "linear.bias: tensor([0.8214])\n"
          ]
        }
      ]
    }
  ]
}